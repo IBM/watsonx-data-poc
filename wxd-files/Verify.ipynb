{
 "cells": [
  {
   "cell_type": "markdown",
   "id": "29344341-2aa7-4c9d-ab90-046d82a17a45",
   "metadata": {},
   "source": [
    "# Watson's Great Outdoors \n",
    "\n",
    "This notebook will doublecheck that you have properly imported the tables and that the records counts match what is expected"
   ]
  },
  {
   "cell_type": "markdown",
   "id": "a179fb3b-dd7d-4b5c-9f77-fd718523b099",
   "metadata": {},
   "source": [
    "### Load SQL Extensions\n",
    "The following code is required to load the Notebook extensions required to run the queries."
   ]
  },
  {
   "cell_type": "code",
   "execution_count": null,
   "id": "278108d7-b8f1-4691-982e-48b2a57ebe7b",
   "metadata": {},
   "outputs": [],
   "source": [
    "%run presto.ipynb"
   ]
  },
  {
   "cell_type": "markdown",
   "id": "9cd0690a-bf1c-4d92-9b4a-b6b91af6929d",
   "metadata": {},
   "source": [
    "### Schema Name\n",
    "Change the following variable to contain the name of your schema that you created the tables in. The script assumes that you have catalogued the tables into the iceberg_data catalog."
   ]
  },
  {
   "cell_type": "code",
   "execution_count": null,
   "id": "425068f3-e21b-4dd5-9594-118ef3b526fb",
   "metadata": {},
   "outputs": [],
   "source": [
    "catalog = \"iceberg_data\"\n",
    "schema  = \"watsons_iceberg\""
   ]
  },
  {
   "cell_type": "markdown",
   "id": "ea40d0db-8fde-4c3d-9c80-3acf0adfcd4b",
   "metadata": {},
   "source": [
    "### Connect to watsonx.data\n",
    "Note that the connection string below needs to be modified if you have changed the location of the certificate file, or if you are running this script from an external Jupyter notebook. "
   ]
  },
  {
   "cell_type": "code",
   "execution_count": null,
   "id": "7df063f2-fb2e-4976-bdbe-9c0005db9624",
   "metadata": {},
   "outputs": [],
   "source": [
    "%%sql\n",
    "   connect\n",
    "   userid=ibmlhadmin\n",
    "   password=password\n",
    "   hostname=watsonxdata\n",
    "   port=8443\n",
    "   catalog=tpch\n",
    "   schema=tiny\n",
    "   certfile=/certs/lh-ssl-ts.crt"
   ]
  },
  {
   "cell_type": "markdown",
   "id": "3e9a8325-0632-480b-9551-83b0fd827f11",
   "metadata": {},
   "source": [
    "### Check Schema Exists\n",
    "Doublecheck that your schema does exist in the iceberg_data catalog."
   ]
  },
  {
   "cell_type": "code",
   "execution_count": null,
   "id": "de4fa87d-9a84-4e3d-b062-5c289c52a9fe",
   "metadata": {},
   "outputs": [],
   "source": [
    "%sql show schemas in iceberg_data"
   ]
  },
  {
   "cell_type": "markdown",
   "id": "fb9f502e-0422-4a91-b25d-a94b8466e4ef",
   "metadata": {},
   "source": [
    "### Check Row Count"
   ]
  },
  {
   "cell_type": "code",
   "execution_count": null,
   "id": "8ee40fb6-ecfe-4422-b887-8737c3876608",
   "metadata": {},
   "outputs": [],
   "source": [
    "sqlin = f'''\n",
    "WITH TABLES(TABLE_NAME, EXPECTED_ROWS, ACTUAL_ROWS) AS\n",
    "  (\n",
    "  SELECT 'AGGR_TIME_PROD_OM_FACT',1867,count(*) from iceberg_data.{schema}.AGGR_TIME_PROD_OM_FACT\n",
    "  UNION ALL\n",
    "  SELECT 'BURST_TABLE',3,count(*) from iceberg_data.{schema}.BURST_TABLE\n",
    "  UNION ALL\n",
    "  SELECT 'BURST_TABLE2',4,count(*) from iceberg_data.{schema}.BURST_TABLE2\n",
    "  UNION ALL\n",
    "  SELECT 'DIST_INVENTORY_FACT',53837,count(*) from iceberg_data.{schema}.DIST_INVENTORY_FACT\n",
    "  UNION ALL\n",
    "  SELECT 'DIST_PRODUCT_FORECAST_FACT',129096,count(*) from iceberg_data.{schema}.DIST_PRODUCT_FORECAST_FACT\n",
    "  UNION ALL\n",
    "  SELECT 'DIST_RETURNED_ITEMS_FACT',10249,count(*) from iceberg_data.{schema}.DIST_RETURNED_ITEMS_FACT\n",
    "  UNION ALL\n",
    "  SELECT 'DIST_RETURN_REASON_DIM',5,count(*) from iceberg_data.{schema}.DIST_RETURN_REASON_DIM\n",
    "  UNION ALL\n",
    "  SELECT 'EMP_EMPLOYEE_DIM',972,count(*) from iceberg_data.{schema}.EMP_EMPLOYEE_DIM\n",
    "  UNION ALL\n",
    "  SELECT 'EMP_EXPENSE_FACT',127984,count(*) from iceberg_data.{schema}.EMP_EXPENSE_FACT\n",
    "  UNION ALL\n",
    "  SELECT 'EMP_EXPENSE_PLAN_FACT',30150,count(*) from iceberg_data.{schema}.EMP_EXPENSE_PLAN_FACT\n",
    "  UNION ALL\n",
    "  SELECT 'EMP_EXPENSE_TYPE_DIM',39,count(*) from iceberg_data.{schema}.EMP_EXPENSE_TYPE_DIM\n",
    "  UNION ALL\n",
    "  SELECT 'EMP_EXPENSE_UNIT_LOOKUP',3,count(*) from iceberg_data.{schema}.EMP_EXPENSE_UNIT_LOOKUP\n",
    "  UNION ALL\n",
    "  SELECT 'EMP_POSITION_DIM',57,count(*) from iceberg_data.{schema}.EMP_POSITION_DIM\n",
    "  UNION ALL\n",
    "  SELECT 'EMP_POSITION_LOOKUP',57,count(*) from iceberg_data.{schema}.EMP_POSITION_LOOKUP\n",
    "  UNION ALL\n",
    "  SELECT 'EMP_POSITION_SUMMARY_FACT',15050,count(*) from iceberg_data.{schema}.EMP_POSITION_SUMMARY_FACT\n",
    "  UNION ALL\n",
    "  SELECT 'EMP_RANKING_DIM',5,count(*) from iceberg_data.{schema}.EMP_RANKING_DIM\n",
    "  UNION ALL\n",
    "  SELECT 'EMP_RANKING_FACT',1897,count(*) from iceberg_data.{schema}.EMP_RANKING_FACT\n",
    "  UNION ALL\n",
    "  SELECT 'EMP_RECRUITMENT_DIM',14,count(*) from iceberg_data.{schema}.EMP_RECRUITMENT_DIM\n",
    "  UNION ALL\n",
    "  SELECT 'EMP_RECRUITMENT_FACT',416,count(*) from iceberg_data.{schema}.EMP_RECRUITMENT_FACT\n",
    "  UNION ALL\n",
    "  SELECT 'EMP_RECRUITMENT_LEAD_FACT',4171,count(*) from iceberg_data.{schema}.EMP_RECRUITMENT_LEAD_FACT\n",
    "  UNION ALL\n",
    "  SELECT 'EMP_SUCCESSION_FACT',181,count(*) from iceberg_data.{schema}.EMP_SUCCESSION_FACT\n",
    "  UNION ALL\n",
    "  SELECT 'EMP_SUCCESSION_STATUS_DIM',5,count(*) from iceberg_data.{schema}.EMP_SUCCESSION_STATUS_DIM\n",
    "  UNION ALL\n",
    "  SELECT 'EMP_SUMMARY_FACT',24233,count(*) from iceberg_data.{schema}.EMP_SUMMARY_FACT\n",
    "  UNION ALL\n",
    "  SELECT 'EMP_SURVEY_FACT',5725,count(*) from iceberg_data.{schema}.EMP_SURVEY_FACT\n",
    "  UNION ALL\n",
    "  SELECT 'EMP_SURVEY_TARG_FACT',20,count(*) from iceberg_data.{schema}.EMP_SURVEY_TARG_FACT\n",
    "  UNION ALL\n",
    "  SELECT 'EMP_SURVEY_TOPIC_DIM',5,count(*) from iceberg_data.{schema}.EMP_SURVEY_TOPIC_DIM\n",
    "  UNION ALL\n",
    "  SELECT 'EMP_TERMINATION_LOOKUP',6,count(*) from iceberg_data.{schema}.EMP_TERMINATION_LOOKUP\n",
    "  UNION ALL\n",
    "  SELECT 'EMP_TRAINING_DIM',42,count(*) from iceberg_data.{schema}.EMP_TRAINING_DIM\n",
    "  UNION ALL\n",
    "  SELECT 'EMP_TRAINING_FACT',4465,count(*) from iceberg_data.{schema}.EMP_TRAINING_FACT\n",
    "  UNION ALL\n",
    "  SELECT 'FIN_ACCOUNT_CLASS_LOOKUP',5,count(*) from iceberg_data.{schema}.FIN_ACCOUNT_CLASS_LOOKUP\n",
    "  UNION ALL\n",
    "  SELECT 'FIN_ACCOUNT_DIM',242,count(*) from iceberg_data.{schema}.FIN_ACCOUNT_DIM\n",
    "  UNION ALL\n",
    "  SELECT 'FIN_ACCOUNT_NAME_LOOKUP',242,count(*) from iceberg_data.{schema}.FIN_ACCOUNT_NAME_LOOKUP\n",
    "  UNION ALL\n",
    "  SELECT 'FIN_ACCOUNT_TYPE_LOOKUP',4,count(*) from iceberg_data.{schema}.FIN_ACCOUNT_TYPE_LOOKUP\n",
    "  UNION ALL\n",
    "  SELECT 'FIN_FINANCE_FACT',164132,count(*) from iceberg_data.{schema}.FIN_FINANCE_FACT\n",
    "  UNION ALL\n",
    "  SELECT 'FIN_SUBM_CURRENCY_LOOKUP',7,count(*) from iceberg_data.{schema}.FIN_SUBM_CURRENCY_LOOKUP\n",
    "  UNION ALL\n",
    "  SELECT 'FIN_SUBM_DIM',52,count(*) from iceberg_data.{schema}.FIN_SUBM_DIM\n",
    "  UNION ALL\n",
    "  SELECT 'FIN_SUBM_TYPE_LOOKUP',3,count(*) from iceberg_data.{schema}.FIN_SUBM_TYPE_LOOKUP\n",
    "  UNION ALL\n",
    "  SELECT 'GO_BRANCH_DIM',29,count(*) from iceberg_data.{schema}.GO_BRANCH_DIM\n",
    "  UNION ALL\n",
    "  SELECT 'GO_GENDER_LOOKUP',2,count(*) from iceberg_data.{schema}.GO_GENDER_LOOKUP\n",
    "  UNION ALL\n",
    "  SELECT 'GO_ORG_DIM',123,count(*) from iceberg_data.{schema}.GO_ORG_DIM\n",
    "  UNION ALL\n",
    "  SELECT 'GO_ORG_NAME_LOOKUP',123,count(*) from iceberg_data.{schema}.GO_ORG_NAME_LOOKUP\n",
    "  UNION ALL\n",
    "  SELECT 'GO_REGION_DIM',21,count(*) from iceberg_data.{schema}.GO_REGION_DIM\n",
    "  UNION ALL\n",
    "  SELECT 'GO_SATISFACTION_DIM',5,count(*) from iceberg_data.{schema}.GO_SATISFACTION_DIM\n",
    "  UNION ALL\n",
    "  SELECT 'GO_TIME_DIM',1465,count(*) from iceberg_data.{schema}.GO_TIME_DIM\n",
    "  UNION ALL\n",
    "  SELECT 'GO_TIME_QUARTER_LOOKUP',20,count(*) from iceberg_data.{schema}.GO_TIME_QUARTER_LOOKUP\n",
    "  UNION ALL\n",
    "  SELECT 'MRK_ACTIVITY_STATUS_DIM',2,count(*) from iceberg_data.{schema}.MRK_ACTIVITY_STATUS_DIM\n",
    "  UNION ALL\n",
    "  SELECT 'MRK_ADV_FACT',576,count(*) from iceberg_data.{schema}.MRK_ADV_FACT\n",
    "  UNION ALL\n",
    "  SELECT 'MRK_BUNDLE_GROUP_LOOKUP',15,count(*) from iceberg_data.{schema}.MRK_BUNDLE_GROUP_LOOKUP\n",
    "  UNION ALL\n",
    "  SELECT 'MRK_CAMPAIGN_LOOKUP',12,count(*) from iceberg_data.{schema}.MRK_CAMPAIGN_LOOKUP\n",
    "  UNION ALL\n",
    "  SELECT 'MRK_PRODUCT_SURVEY_DIM',7,count(*) from iceberg_data.{schema}.MRK_PRODUCT_SURVEY_DIM\n",
    "  UNION ALL\n",
    "  SELECT 'MRK_PRODUCT_SURVEY_FACT',165074,count(*) from iceberg_data.{schema}.MRK_PRODUCT_SURVEY_FACT\n",
    "  UNION ALL\n",
    "  SELECT 'MRK_PROD_SURVEY_TARG_FACT',5824,count(*) from iceberg_data.{schema}.MRK_PROD_SURVEY_TARG_FACT\n",
    "  UNION ALL\n",
    "  SELECT 'MRK_PROMOTION_DIM',112,count(*) from iceberg_data.{schema}.MRK_PROMOTION_DIM\n",
    "  UNION ALL\n",
    "  SELECT 'MRK_PROMOTION_FACT',11034,count(*) from iceberg_data.{schema}.MRK_PROMOTION_FACT\n",
    "  UNION ALL\n",
    "  SELECT 'MRK_PROMOTION_PLAN_FACT',8652,count(*) from iceberg_data.{schema}.MRK_PROMOTION_PLAN_FACT\n",
    "  UNION ALL\n",
    "  SELECT 'MRK_RTL_SURVEY_DIM',9,count(*) from iceberg_data.{schema}.MRK_RTL_SURVEY_DIM\n",
    "  UNION ALL\n",
    "  SELECT 'MRK_RTL_SURVEY_FACT',22508,count(*) from iceberg_data.{schema}.MRK_RTL_SURVEY_FACT\n",
    "  UNION ALL\n",
    "  SELECT 'MRK_RTL_SURVEY_TARG_FACT',64,count(*) from iceberg_data.{schema}.MRK_RTL_SURVEY_TARG_FACT\n",
    "  UNION ALL\n",
    "  SELECT 'SLS_ORDER_METHOD_DIM',7,count(*) from iceberg_data.{schema}.SLS_ORDER_METHOD_DIM\n",
    "  UNION ALL\n",
    "  SELECT 'SLS_PRODUCT_BRAND_LOOKUP',28,count(*) from iceberg_data.{schema}.SLS_PRODUCT_BRAND_LOOKUP\n",
    "  UNION ALL\n",
    "  SELECT 'SLS_PRODUCT_COLOR_LOOKUP',27,count(*) from iceberg_data.{schema}.SLS_PRODUCT_COLOR_LOOKUP\n",
    "  UNION ALL\n",
    "  SELECT 'SLS_PRODUCT_DIM',274,count(*) from iceberg_data.{schema}.SLS_PRODUCT_DIM\n",
    "  UNION ALL\n",
    "  SELECT 'SLS_PRODUCT_LINE_LOOKUP',5,count(*) from iceberg_data.{schema}.SLS_PRODUCT_LINE_LOOKUP\n",
    "  UNION ALL\n",
    "  SELECT 'SLS_PRODUCT_LOOKUP',7946,count(*) from iceberg_data.{schema}.SLS_PRODUCT_LOOKUP\n",
    "  UNION ALL\n",
    "  SELECT 'SLS_PRODUCT_SIZE_LOOKUP',55,count(*) from iceberg_data.{schema}.SLS_PRODUCT_SIZE_LOOKUP\n",
    "  UNION ALL\n",
    "  SELECT 'SLS_PRODUCT_TYPE_LOOKUP',21,count(*) from iceberg_data.{schema}.SLS_PRODUCT_TYPE_LOOKUP\n",
    "  UNION ALL\n",
    "  SELECT 'SLS_RTL_DIM',847,count(*) from iceberg_data.{schema}.SLS_RTL_DIM\n",
    "  UNION ALL\n",
    "  SELECT 'SLS_SALES_FACT',446023,count(*) from iceberg_data.{schema}.SLS_SALES_FACT\n",
    "  UNION ALL\n",
    "  SELECT 'SLS_SALES_ORDER_DIM',446023,count(*) from iceberg_data.{schema}.SLS_SALES_ORDER_DIM\n",
    "  UNION ALL\n",
    "  SELECT 'SLS_SALES_TARG_FACT',233625,count(*) from iceberg_data.{schema}.SLS_SALES_TARG_FACT\n",
    "  UNION ALL\n",
    "  SELECT 'XGOREVDW',58,count(*) from iceberg_data.{schema}.XGOREVDW\n",
    "  )\n",
    "SELECT TABLE_NAME, IF(EXPECTED_ROWS-ACTUAL_ROWS=0,'OK','ERROR') AS STATUS, EXPECTED_ROWS, ACTUAL_ROWS FROM TABLES\n",
    "  ORDER BY TABLE_NAME ASC;\n",
    "'''\n",
    "%sql {sqlin}"
   ]
  },
  {
   "cell_type": "markdown",
   "id": "dce0ceba-8961-4310-b2c0-18f6e50719d5",
   "metadata": {},
   "source": [
    "### Check Table Sizes"
   ]
  },
  {
   "cell_type": "code",
   "execution_count": null,
   "id": "1458ab5a-ce39-4dc0-9572-74d0c7b6b4b4",
   "metadata": {},
   "outputs": [],
   "source": [
    "table_list = %sql --raw show tables from {catalog}.{schema}\n",
    "tables = []\n",
    "sizes  = []\n",
    "for table in table_list:\n",
    "    table_name = table[0]\n",
    "    tables.append(table_name)\n",
    "    sql = f'SELECT file_size_in_bytes FROM {catalog}.{schema}.\"{table_name}$files\"'\n",
    "    file_size = %sql --raw {sql}\n",
    "    sizes.append(file_size[0][0])\n",
    "df = pandas.DataFrame({'Table Name': tables, 'Size in Bytes': sizes})\n",
    "pdisplay(DataGrid(df,auto_fit_columns=True))"
   ]
  },
  {
   "cell_type": "markdown",
   "id": "9bf6b73d-e372-4328-96e3-c9b3676d2686",
   "metadata": {},
   "source": [
    "#### Credits: IBM 2024, George Baklarz [baklarz@ca.ibm.com], Daniel Hancock [daniel.hancock@us.ibm.com]"
   ]
  }
 ],
 "metadata": {
  "kernelspec": {
   "display_name": "Python 3 (ipykernel)",
   "language": "python",
   "name": "python3"
  },
  "language_info": {
   "codemirror_mode": {
    "name": "ipython",
    "version": 3
   },
   "file_extension": ".py",
   "mimetype": "text/x-python",
   "name": "python",
   "nbconvert_exporter": "python",
   "pygments_lexer": "ipython3",
   "version": "3.9.18"
  }
 },
 "nbformat": 4,
 "nbformat_minor": 5
}
